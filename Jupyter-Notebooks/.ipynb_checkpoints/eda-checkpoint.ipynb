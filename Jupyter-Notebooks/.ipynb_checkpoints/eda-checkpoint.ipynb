{
 "cells": [
  {
   "cell_type": "code",
   "execution_count": null,
   "id": "01510211",
   "metadata": {},
   "outputs": [],
   "source": [
    "#   import dependencies\n",
    "import matplotlib.pyplot as plt\n",
    "import pandas as pd\n",
    "import scipy.stats as st\n",
    "from scipy.stats import linregress\n",
    "from urllib.error import HTTPError\n",
    "import numpy as np\n",
    "import wget\n",
    "import time\n",
    "from datetime import datetime\n",
    "from pandas_profiling import ProfileReport"
   ]
  },
  {
   "cell_type": "markdown",
   "id": "eb168fed",
   "metadata": {},
   "source": [
    "#### Pandas Profiling was used to analyse the three data frames produced by the \"create_covid_db\" notebook. \n",
    "#### The results of the analysis are appended to the \"Project-2 Report\""
   ]
  },
  {
   "cell_type": "markdown",
   "id": "e9c16066",
   "metadata": {},
   "source": [
    "#### Exploratory analysis of covid_cases data set using Pandas ProfilinG\n"
   ]
  },
  {
   "cell_type": "raw",
   "id": "5a003b0e",
   "metadata": {},
   "source": [
    "df = pd.read_csv('CSVs/covid_cases-04-15-22.csv')\n"
   ]
  },
  {
   "cell_type": "code",
   "execution_count": null,
   "id": "bd9758bf",
   "metadata": {},
   "outputs": [],
   "source": [
    "#   start exploratory data analysis\n",
    "prof = ProfileReport(df)\n",
    "prof.to_file(output_file='output_conf.html')\n"
   ]
  },
  {
   "cell_type": "markdown",
   "id": "1f3ff6fa",
   "metadata": {},
   "source": [
    "#### Exploratory analysis of vaccinations data set using Pandas Profiling\n"
   ]
  },
  {
   "cell_type": "code",
   "execution_count": null,
   "id": "9b4086d3",
   "metadata": {},
   "outputs": [],
   "source": [
    "df = pd.read_csv('exported_CSVs/vaccinations.csv')\n"
   ]
  },
  {
   "cell_type": "code",
   "execution_count": null,
   "id": "26079208",
   "metadata": {},
   "outputs": [],
   "source": [
    "#   start exploratory data analysis\n",
    "prof = ProfileReport(df)\n",
    "prof.to_file(output_file='output_conf.html')\n"
   ]
  },
  {
   "cell_type": "markdown",
   "id": "e7122898",
   "metadata": {},
   "source": [
    "#### Exploratory analysis of world population data set using Pandas Profiling\n"
   ]
  },
  {
   "cell_type": "code",
   "execution_count": null,
   "id": "ee04b5a3",
   "metadata": {},
   "outputs": [],
   "source": [
    "df = pd.read_csv('exported_CSVs/world_population.csv')"
   ]
  },
  {
   "cell_type": "code",
   "execution_count": null,
   "id": "7bdbdfd3",
   "metadata": {},
   "outputs": [],
   "source": [
    "#   start exploratory data analysis\n",
    "prof = ProfileReport(df)\n",
    "prof.to_file(output_file='output_conf.html')\n"
   ]
  },
  {
   "cell_type": "code",
   "execution_count": null,
   "id": "26c5b3ae",
   "metadata": {},
   "outputs": [],
   "source": []
  }
 ],
 "metadata": {
  "kernelspec": {
   "display_name": "Python 3 (ipykernel)",
   "language": "python",
   "name": "python3"
  },
  "language_info": {
   "codemirror_mode": {
    "name": "ipython",
    "version": 3
   },
   "file_extension": ".py",
   "mimetype": "text/x-python",
   "name": "python",
   "nbconvert_exporter": "python",
   "pygments_lexer": "ipython3",
   "version": "3.9.7"
  }
 },
 "nbformat": 4,
 "nbformat_minor": 5
}
